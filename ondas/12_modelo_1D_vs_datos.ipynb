{
 "cells": [
  {
   "cell_type": "code",
   "execution_count": 8,
   "id": "adab35c7-9e5e-4f34-b77e-9586493b688c",
   "metadata": {},
   "outputs": [],
   "source": [
    "import numpy  as np\n",
    "import matplotlib.pyplot as plt"
   ]
  },
  {
   "cell_type": "code",
   "execution_count": 9,
   "id": "2d4270ba-bac2-4396-bdfe-057e25fca610",
   "metadata": {},
   "outputs": [],
   "source": [
    "def find_b_from_data(L, f):\n",
    "    log_L = np.log10(L)\n",
    "    log_f = np.log10(f)\n",
    "    b, log_C = np.polyfit(log_L, log_f, 1)\n",
    "    return b"
   ]
  },
  {
   "cell_type": "code",
   "execution_count": 10,
   "id": "20abe094-54c3-4719-b99b-aa94a8b76fc8",
   "metadata": {},
   "outputs": [],
   "source": [
    "def new_data_from_normal_distribution(L, f, delta_L, delta_f):\n",
    "    new_L = np.random.normal(loc=L, scale=delta_L)\n",
    "    new_f = np.random.normal(loc=f, scale=delta_f)\n",
    "    return new_L, new_f"
   ]
  },
  {
   "cell_type": "code",
   "execution_count": 11,
   "id": "21f4878f-f758-4d95-92b1-af47415c3273",
   "metadata": {},
   "outputs": [],
   "source": [
    "def new_data_from_jackknife(L, f):\n",
    "    n = len(L)\n",
    "    ids = np.arange(n)\n",
    "    new_ids = np.random.choice(ids, size=n)\n",
    "    return L[ids], f[ids]"
   ]
  },
  {
   "cell_type": "code",
   "execution_count": 18,
   "id": "ca643006-bb25-4fb0-83f5-1e770738f37b",
   "metadata": {},
   "outputs": [],
   "source": [
    "def estimate_b_with_uncertainty(L, f, delta_L, delta_f, N_iterations=100):\n",
    "    b_values = np.zeros(N_iterations)\n",
    "    for i in range(N_iterations):\n",
    "        new_L, new_f = new_data_from_normal_distribution(L, f, delta_L, delta_f)\n",
    "        new_L, new_f = new_data_from_jackknife(new_L, new_f)\n",
    "        b_values[i] = find_b_from_data(new_L, new_f)\n",
    "    return b_values.mean(), b_values.std()"
   ]
  },
  {
   "cell_type": "code",
   "execution_count": 19,
   "id": "63393240-f2ca-4481-b73c-07401f4bdc55",
   "metadata": {},
   "outputs": [],
   "source": [
    "def is_b_consistent_with_theory(L, f, delta_L, delta_f):\n",
    "    b, delta_b = estimate_b_with_uncertainty(L, f, delta_L, delta_f)\n",
    "    b_theory = -1.0\n",
    "    if np.abs(b - b_theory) < 3.0*delta_b:\n",
    "        return True\n",
    "    else:\n",
    "        return False"
   ]
  },
  {
   "cell_type": "code",
   "execution_count": 20,
   "id": "e03de09b-b9a6-4e30-a813-1be1fc5924ef",
   "metadata": {},
   "outputs": [
    {
     "data": {
      "text/plain": [
       "Text(0, 0.5, '$\\\\delta_f$ (Hz)')"
      ]
     },
     "execution_count": 20,
     "metadata": {},
     "output_type": "execute_result"
    },
    {
     "data": {
      "image/png": "[encoded data removed]",
      "text/plain": [
       "<Figure size 640x480 with 1 Axes>"
      ]
     },
     "metadata": {},
     "output_type": "display_data"
    }
   ],
   "source": [
    "L = np.array([114.0, 130.0, 140.0, 150.0, 180.0])\n",
    "f = np.array([330.0, 307.0, 280.0, 258.0, 231.0])\n",
    "\n",
    "n_delta = 50\n",
    "delta_L_values = np.linspace(1.0, 10.0, n_delta)\n",
    "delta_f_values = np.linspace(1.0, 10.0, n_delta)\n",
    "\n",
    "for delta_L in delta_L_values:\n",
    "    for delta_f in delta_f_values:\n",
    "        is_consistent = is_b_consistent_with_theory(L, f, delta_L, delta_f)\n",
    "        if not is_consistent:\n",
    "            plt.scatter(delta_L, delta_f, color='black')\n",
    "plt.xlim(1,10)\n",
    "plt.ylim(1,10)\n",
    "plt.xlabel('$\\delta_L$ (mm)')\n",
    "plt.ylabel('$\\delta_f$ (Hz)')"
   ]
  },
  {
   "cell_type": "code",
   "execution_count": null,
   "id": "91e66c25-965d-440c-a1cf-f994e1e1318f",
   "metadata": {},
   "outputs": [],
   "source": []
  }
 ],
 "metadata": {
  "kernelspec": {
   "display_name": "Python 3 (ipykernel)",
   "language": "python",
   "name": "python3"
  },
  "language_info": {
   "codemirror_mode": {
    "name": "ipython",
    "version": 3
   },
   "file_extension": ".py",
   "mimetype": "text/x-python",
   "name": "python",
   "nbconvert_exporter": "python",
   "pygments_lexer": "ipython3",
   "version": "3.8.13"
  }
 },
 "nbformat": 4,
 "nbformat_minor": 5
}
